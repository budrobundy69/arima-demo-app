{
 "cells": [
  {
   "cell_type": "code",
   "execution_count": 1,
   "id": "9667fcd5-7f0a-4081-83e5-368584cfc673",
   "metadata": {},
   "outputs": [],
   "source": [
    "import pandas as pd\n",
    "import matplotlib.pyplot as plt\n",
    "import numpy as np\n"
   ]
  },
  {
   "cell_type": "code",
   "execution_count": 2,
   "id": "6a2327b9-b8a4-4b08-9d9a-cb1233b0cb5d",
   "metadata": {},
   "outputs": [],
   "source": [
    "from statsmodels.tsa.seasonal import seasonal_decompose\n",
    "from statsmodels.tsa.stattools import adfuller\n",
    "from pmdarima import auto_arima\n",
    "from statsmodels.tsa.arima.model import ARIMA"
   ]
  },
  {
   "cell_type": "code",
   "execution_count": 3,
   "id": "7700b865-9ba9-4611-91af-43c2653e5e15",
   "metadata": {},
   "outputs": [
    {
     "name": "stdout",
     "output_type": "stream",
     "text": [
      "Shape: (1000, 1)\n"
     ]
    },
    {
     "data": {
      "text/html": [
       "<div>\n",
       "<style scoped>\n",
       "    .dataframe tbody tr th:only-of-type {\n",
       "        vertical-align: middle;\n",
       "    }\n",
       "\n",
       "    .dataframe tbody tr th {\n",
       "        vertical-align: top;\n",
       "    }\n",
       "\n",
       "    .dataframe thead th {\n",
       "        text-align: right;\n",
       "    }\n",
       "</style>\n",
       "<table border=\"1\" class=\"dataframe\">\n",
       "  <thead>\n",
       "    <tr style=\"text-align: right;\">\n",
       "      <th></th>\n",
       "      <th>Temperatur</th>\n",
       "    </tr>\n",
       "    <tr>\n",
       "      <th>Datum</th>\n",
       "      <th></th>\n",
       "    </tr>\n",
       "  </thead>\n",
       "  <tbody>\n",
       "    <tr>\n",
       "      <th>2020-01-01</th>\n",
       "      <td>20.745773</td>\n",
       "    </tr>\n",
       "    <tr>\n",
       "      <th>2020-01-02</th>\n",
       "      <td>19.746801</td>\n",
       "    </tr>\n",
       "    <tr>\n",
       "      <th>2020-01-03</th>\n",
       "      <td>20.340690</td>\n",
       "    </tr>\n",
       "    <tr>\n",
       "      <th>2020-01-04</th>\n",
       "      <td>19.025730</td>\n",
       "    </tr>\n",
       "    <tr>\n",
       "      <th>2020-01-05</th>\n",
       "      <td>19.317440</td>\n",
       "    </tr>\n",
       "  </tbody>\n",
       "</table>\n",
       "</div>"
      ],
      "text/plain": [
       "            Temperatur\n",
       "Datum                 \n",
       "2020-01-01   20.745773\n",
       "2020-01-02   19.746801\n",
       "2020-01-03   20.340690\n",
       "2020-01-04   19.025730\n",
       "2020-01-05   19.317440"
      ]
     },
     "execution_count": 3,
     "metadata": {},
     "output_type": "execute_result"
    }
   ],
   "source": [
    "# Daten generieren\n",
    "data = {\n",
    "  'Datum': pd.date_range(start='1/1/2020', periods=1000),\n",
    "  'Temperatur': pd.Series(20 + np.random.randn(1000).cumsum())\n",
    "}\n",
    "\n",
    "df = pd.DataFrame(data).set_index('Datum')\n",
    "df\n",
    "print('Shape:', df.shape)\n",
    "df.head()"
   ]
  },
  {
   "cell_type": "code",
   "execution_count": 4,
   "id": "3f65a221-5b70-47b2-a3b6-88680085c283",
   "metadata": {},
   "outputs": [],
   "source": [
    "def ad_test(data):\n",
    "    dftest = adfuller(data, autolag='AIC')\n",
    "    print('1. ADF: ', dftest[0])\n",
    "    print('2. p-value: ', dftest[1])\n",
    "    print('3. No. of lags: ', dftest[2])\n",
    "    print('4. No. of observations used for ADF regression and critical values calculation: ', dftest[3])\n",
    "    print('5. Critical values: ')\n",
    "    for key, val in dftest[4].items():\n",
    "        print('\\t', key, ': ', val)"
   ]
  },
  {
   "cell_type": "code",
   "execution_count": 5,
   "id": "1fb2dc0f-2b9b-441a-93f7-3975039dcc32",
   "metadata": {},
   "outputs": [
    {
     "name": "stdout",
     "output_type": "stream",
     "text": [
      "1. ADF:  -1.6203844542801\n",
      "2. p-value:  0.472527748933211\n",
      "3. No. of lags:  2\n",
      "4. No. of observations used for ADF regression and critical values calculation:  997\n",
      "5. Critical values: \n",
      "\t 1% :  -3.4369259442540416\n",
      "\t 5% :  -2.8644432969122833\n",
      "\t 10% :  -2.5683158550174094\n"
     ]
    }
   ],
   "source": [
    "ad_test(df['Temperatur'])"
   ]
  },
  {
   "cell_type": "code",
   "execution_count": 6,
   "id": "f5acb027-95e5-4fb0-8714-a72109b4c372",
   "metadata": {},
   "outputs": [],
   "source": [
    "# ARIMA-Modell anpassen\n",
    "\n",
    "\n",
    "import warnings\n",
    "warnings.filterwarnings('ignore')"
   ]
  },
  {
   "cell_type": "code",
   "execution_count": 7,
   "id": "479b1d48-e6d9-49f0-95eb-dadfa208dbe6",
   "metadata": {},
   "outputs": [
    {
     "name": "stdout",
     "output_type": "stream",
     "text": [
      "Performing stepwise search to minimize aic\n",
      " ARIMA(2,1,2)(0,0,0)[0] intercept   : AIC=2773.548, Time=0.58 sec\n",
      " ARIMA(0,1,0)(0,0,0)[0] intercept   : AIC=2773.365, Time=0.07 sec\n",
      " ARIMA(1,1,0)(0,0,0)[0] intercept   : AIC=2774.851, Time=0.04 sec\n",
      " ARIMA(0,1,1)(0,0,0)[0] intercept   : AIC=2774.778, Time=0.05 sec\n",
      " ARIMA(0,1,0)(0,0,0)[0]             : AIC=2775.466, Time=0.01 sec\n",
      " ARIMA(1,1,1)(0,0,0)[0] intercept   : AIC=2772.868, Time=0.18 sec\n",
      " ARIMA(2,1,1)(0,0,0)[0] intercept   : AIC=2772.977, Time=0.26 sec\n",
      " ARIMA(1,1,2)(0,0,0)[0] intercept   : AIC=2773.005, Time=0.31 sec\n",
      " ARIMA(0,1,2)(0,0,0)[0] intercept   : AIC=2772.561, Time=0.06 sec\n",
      " ARIMA(0,1,3)(0,0,0)[0] intercept   : AIC=2773.690, Time=0.09 sec\n",
      " ARIMA(1,1,3)(0,0,0)[0] intercept   : AIC=2774.997, Time=0.26 sec\n",
      " ARIMA(0,1,2)(0,0,0)[0]             : AIC=2775.515, Time=0.03 sec\n",
      "\n",
      "Best model:  ARIMA(0,1,2)(0,0,0)[0] intercept\n",
      "Total fit time: 1.955 seconds\n"
     ]
    },
    {
     "data": {
      "text/html": [
       "<table class=\"simpletable\">\n",
       "<caption>SARIMAX Results</caption>\n",
       "<tr>\n",
       "  <th>Dep. Variable:</th>           <td>y</td>        <th>  No. Observations:  </th>   <td>1000</td>   \n",
       "</tr>\n",
       "<tr>\n",
       "  <th>Model:</th>           <td>SARIMAX(0, 1, 2)</td> <th>  Log Likelihood     </th> <td>-1382.281</td>\n",
       "</tr>\n",
       "<tr>\n",
       "  <th>Date:</th>            <td>Sun, 14 Apr 2024</td> <th>  AIC                </th> <td>2772.561</td> \n",
       "</tr>\n",
       "<tr>\n",
       "  <th>Time:</th>                <td>13:25:52</td>     <th>  BIC                </th> <td>2792.188</td> \n",
       "</tr>\n",
       "<tr>\n",
       "  <th>Sample:</th>             <td>01-01-2020</td>    <th>  HQIC               </th> <td>2780.021</td> \n",
       "</tr>\n",
       "<tr>\n",
       "  <th></th>                   <td>- 09-26-2022</td>   <th>                     </th>     <td> </td>    \n",
       "</tr>\n",
       "<tr>\n",
       "  <th>Covariance Type:</th>        <td>opg</td>       <th>                     </th>     <td> </td>    \n",
       "</tr>\n",
       "</table>\n",
       "<table class=\"simpletable\">\n",
       "<tr>\n",
       "      <td></td>         <th>coef</th>     <th>std err</th>      <th>z</th>      <th>P>|z|</th>  <th>[0.025</th>    <th>0.975]</th>  \n",
       "</tr>\n",
       "<tr>\n",
       "  <th>intercept</th> <td>   -0.0619</td> <td>    0.028</td> <td>   -2.236</td> <td> 0.025</td> <td>   -0.116</td> <td>   -0.008</td>\n",
       "</tr>\n",
       "<tr>\n",
       "  <th>ma.L1</th>     <td>   -0.0284</td> <td>    0.033</td> <td>   -0.872</td> <td> 0.383</td> <td>   -0.092</td> <td>    0.035</td>\n",
       "</tr>\n",
       "<tr>\n",
       "  <th>ma.L2</th>     <td>   -0.0673</td> <td>    0.032</td> <td>   -2.075</td> <td> 0.038</td> <td>   -0.131</td> <td>   -0.004</td>\n",
       "</tr>\n",
       "<tr>\n",
       "  <th>sigma2</th>    <td>    0.9319</td> <td>    0.039</td> <td>   23.852</td> <td> 0.000</td> <td>    0.855</td> <td>    1.008</td>\n",
       "</tr>\n",
       "</table>\n",
       "<table class=\"simpletable\">\n",
       "<tr>\n",
       "  <th>Ljung-Box (L1) (Q):</th>     <td>0.00</td> <th>  Jarque-Bera (JB):  </th> <td>5.84</td> \n",
       "</tr>\n",
       "<tr>\n",
       "  <th>Prob(Q):</th>                <td>0.95</td> <th>  Prob(JB):          </th> <td>0.05</td> \n",
       "</tr>\n",
       "<tr>\n",
       "  <th>Heteroskedasticity (H):</th> <td>0.99</td> <th>  Skew:              </th> <td>-0.11</td>\n",
       "</tr>\n",
       "<tr>\n",
       "  <th>Prob(H) (two-sided):</th>    <td>0.91</td> <th>  Kurtosis:          </th> <td>3.30</td> \n",
       "</tr>\n",
       "</table><br/><br/>Warnings:<br/>[1] Covariance matrix calculated using the outer product of gradients (complex-step)."
      ],
      "text/latex": [
       "\\begin{center}\n",
       "\\begin{tabular}{lclc}\n",
       "\\toprule\n",
       "\\textbf{Dep. Variable:}          &        y         & \\textbf{  No. Observations:  } &    1000     \\\\\n",
       "\\textbf{Model:}                  & SARIMAX(0, 1, 2) & \\textbf{  Log Likelihood     } & -1382.281   \\\\\n",
       "\\textbf{Date:}                   & Sun, 14 Apr 2024 & \\textbf{  AIC                } &  2772.561   \\\\\n",
       "\\textbf{Time:}                   &     13:25:52     & \\textbf{  BIC                } &  2792.188   \\\\\n",
       "\\textbf{Sample:}                 &    01-01-2020    & \\textbf{  HQIC               } &  2780.021   \\\\\n",
       "\\textbf{}                        &   - 09-26-2022   & \\textbf{                     } &             \\\\\n",
       "\\textbf{Covariance Type:}        &       opg        & \\textbf{                     } &             \\\\\n",
       "\\bottomrule\n",
       "\\end{tabular}\n",
       "\\begin{tabular}{lcccccc}\n",
       "                   & \\textbf{coef} & \\textbf{std err} & \\textbf{z} & \\textbf{P$> |$z$|$} & \\textbf{[0.025} & \\textbf{0.975]}  \\\\\n",
       "\\midrule\n",
       "\\textbf{intercept} &      -0.0619  &        0.028     &    -2.236  &         0.025        &       -0.116    &       -0.008     \\\\\n",
       "\\textbf{ma.L1}     &      -0.0284  &        0.033     &    -0.872  &         0.383        &       -0.092    &        0.035     \\\\\n",
       "\\textbf{ma.L2}     &      -0.0673  &        0.032     &    -2.075  &         0.038        &       -0.131    &       -0.004     \\\\\n",
       "\\textbf{sigma2}    &       0.9319  &        0.039     &    23.852  &         0.000        &        0.855    &        1.008     \\\\\n",
       "\\bottomrule\n",
       "\\end{tabular}\n",
       "\\begin{tabular}{lclc}\n",
       "\\textbf{Ljung-Box (L1) (Q):}     & 0.00 & \\textbf{  Jarque-Bera (JB):  } &  5.84  \\\\\n",
       "\\textbf{Prob(Q):}                & 0.95 & \\textbf{  Prob(JB):          } &  0.05  \\\\\n",
       "\\textbf{Heteroskedasticity (H):} & 0.99 & \\textbf{  Skew:              } & -0.11  \\\\\n",
       "\\textbf{Prob(H) (two-sided):}    & 0.91 & \\textbf{  Kurtosis:          } &  3.30  \\\\\n",
       "\\bottomrule\n",
       "\\end{tabular}\n",
       "%\\caption{SARIMAX Results}\n",
       "\\end{center}\n",
       "\n",
       "Warnings: \\newline\n",
       " [1] Covariance matrix calculated using the outer product of gradients (complex-step)."
      ],
      "text/plain": [
       "<class 'statsmodels.iolib.summary.Summary'>\n",
       "\"\"\"\n",
       "                               SARIMAX Results                                \n",
       "==============================================================================\n",
       "Dep. Variable:                      y   No. Observations:                 1000\n",
       "Model:               SARIMAX(0, 1, 2)   Log Likelihood               -1382.281\n",
       "Date:                Sun, 14 Apr 2024   AIC                           2772.561\n",
       "Time:                        13:25:52   BIC                           2792.188\n",
       "Sample:                    01-01-2020   HQIC                          2780.021\n",
       "                         - 09-26-2022                                         \n",
       "Covariance Type:                  opg                                         \n",
       "==============================================================================\n",
       "                 coef    std err          z      P>|z|      [0.025      0.975]\n",
       "------------------------------------------------------------------------------\n",
       "intercept     -0.0619      0.028     -2.236      0.025      -0.116      -0.008\n",
       "ma.L1         -0.0284      0.033     -0.872      0.383      -0.092       0.035\n",
       "ma.L2         -0.0673      0.032     -2.075      0.038      -0.131      -0.004\n",
       "sigma2         0.9319      0.039     23.852      0.000       0.855       1.008\n",
       "===================================================================================\n",
       "Ljung-Box (L1) (Q):                   0.00   Jarque-Bera (JB):                 5.84\n",
       "Prob(Q):                              0.95   Prob(JB):                         0.05\n",
       "Heteroskedasticity (H):               0.99   Skew:                            -0.11\n",
       "Prob(H) (two-sided):                  0.91   Kurtosis:                         3.30\n",
       "===================================================================================\n",
       "\n",
       "Warnings:\n",
       "[1] Covariance matrix calculated using the outer product of gradients (complex-step).\n",
       "\"\"\""
      ]
     },
     "execution_count": 7,
     "metadata": {},
     "output_type": "execute_result"
    }
   ],
   "source": [
    "stepwise_fit=auto_arima(df['Temperatur'],trace=True,suppress_warnings=True)\n",
    "stepwise_fit.summary()"
   ]
  },
  {
   "cell_type": "code",
   "execution_count": 8,
   "id": "a931d398-e000-4c61-8d37-b2214cecca48",
   "metadata": {},
   "outputs": [
    {
     "name": "stdout",
     "output_type": "stream",
     "text": [
      "(1000, 1)\n",
      "(700, 1) (700, 1)\n"
     ]
    }
   ],
   "source": [
    "print(df.shape)\n",
    "train = df.iloc[:-300]\n",
    "test = df.iloc[-300:]\n",
    "print(train.shape, train.shape)"
   ]
  },
  {
   "cell_type": "code",
   "execution_count": 9,
   "id": "2295dd14-aa42-4ae3-a341-c4116f7403ff",
   "metadata": {},
   "outputs": [
    {
     "data": {
      "text/html": [
       "<table class=\"simpletable\">\n",
       "<caption>SARIMAX Results</caption>\n",
       "<tr>\n",
       "  <th>Dep. Variable:</th>      <td>Temperatur</td>    <th>  No. Observations:  </th>    <td>700</td>  \n",
       "</tr>\n",
       "<tr>\n",
       "  <th>Model:</th>            <td>ARIMA(1, 1, 2)</td>  <th>  Log Likelihood     </th> <td>-967.207</td>\n",
       "</tr>\n",
       "<tr>\n",
       "  <th>Date:</th>            <td>Sun, 14 Apr 2024</td> <th>  AIC                </th> <td>1942.413</td>\n",
       "</tr>\n",
       "<tr>\n",
       "  <th>Time:</th>                <td>13:25:53</td>     <th>  BIC                </th> <td>1960.612</td>\n",
       "</tr>\n",
       "<tr>\n",
       "  <th>Sample:</th>             <td>01-01-2020</td>    <th>  HQIC               </th> <td>1949.448</td>\n",
       "</tr>\n",
       "<tr>\n",
       "  <th></th>                   <td>- 11-30-2021</td>   <th>                     </th>     <td> </td>   \n",
       "</tr>\n",
       "<tr>\n",
       "  <th>Covariance Type:</th>        <td>opg</td>       <th>                     </th>     <td> </td>   \n",
       "</tr>\n",
       "</table>\n",
       "<table class=\"simpletable\">\n",
       "<tr>\n",
       "     <td></td>       <th>coef</th>     <th>std err</th>      <th>z</th>      <th>P>|z|</th>  <th>[0.025</th>    <th>0.975]</th>  \n",
       "</tr>\n",
       "<tr>\n",
       "  <th>ar.L1</th>  <td>    0.5543</td> <td>    0.856</td> <td>    0.647</td> <td> 0.518</td> <td>   -1.124</td> <td>    2.233</td>\n",
       "</tr>\n",
       "<tr>\n",
       "  <th>ma.L1</th>  <td>   -0.5395</td> <td>    0.856</td> <td>   -0.631</td> <td> 0.528</td> <td>   -2.216</td> <td>    1.137</td>\n",
       "</tr>\n",
       "<tr>\n",
       "  <th>ma.L2</th>  <td>   -0.0353</td> <td>    0.038</td> <td>   -0.920</td> <td> 0.358</td> <td>   -0.111</td> <td>    0.040</td>\n",
       "</tr>\n",
       "<tr>\n",
       "  <th>sigma2</th> <td>    0.9319</td> <td>    0.050</td> <td>   18.559</td> <td> 0.000</td> <td>    0.834</td> <td>    1.030</td>\n",
       "</tr>\n",
       "</table>\n",
       "<table class=\"simpletable\">\n",
       "<tr>\n",
       "  <th>Ljung-Box (L1) (Q):</th>     <td>0.08</td> <th>  Jarque-Bera (JB):  </th> <td>4.30</td> \n",
       "</tr>\n",
       "<tr>\n",
       "  <th>Prob(Q):</th>                <td>0.77</td> <th>  Prob(JB):          </th> <td>0.12</td> \n",
       "</tr>\n",
       "<tr>\n",
       "  <th>Heteroskedasticity (H):</th> <td>0.98</td> <th>  Skew:              </th> <td>-0.19</td>\n",
       "</tr>\n",
       "<tr>\n",
       "  <th>Prob(H) (two-sided):</th>    <td>0.85</td> <th>  Kurtosis:          </th> <td>2.93</td> \n",
       "</tr>\n",
       "</table><br/><br/>Warnings:<br/>[1] Covariance matrix calculated using the outer product of gradients (complex-step)."
      ],
      "text/latex": [
       "\\begin{center}\n",
       "\\begin{tabular}{lclc}\n",
       "\\toprule\n",
       "\\textbf{Dep. Variable:}          &    Temperatur    & \\textbf{  No. Observations:  } &    700      \\\\\n",
       "\\textbf{Model:}                  &  ARIMA(1, 1, 2)  & \\textbf{  Log Likelihood     } &  -967.207   \\\\\n",
       "\\textbf{Date:}                   & Sun, 14 Apr 2024 & \\textbf{  AIC                } &  1942.413   \\\\\n",
       "\\textbf{Time:}                   &     13:25:53     & \\textbf{  BIC                } &  1960.612   \\\\\n",
       "\\textbf{Sample:}                 &    01-01-2020    & \\textbf{  HQIC               } &  1949.448   \\\\\n",
       "\\textbf{}                        &   - 11-30-2021   & \\textbf{                     } &             \\\\\n",
       "\\textbf{Covariance Type:}        &       opg        & \\textbf{                     } &             \\\\\n",
       "\\bottomrule\n",
       "\\end{tabular}\n",
       "\\begin{tabular}{lcccccc}\n",
       "                & \\textbf{coef} & \\textbf{std err} & \\textbf{z} & \\textbf{P$> |$z$|$} & \\textbf{[0.025} & \\textbf{0.975]}  \\\\\n",
       "\\midrule\n",
       "\\textbf{ar.L1}  &       0.5543  &        0.856     &     0.647  &         0.518        &       -1.124    &        2.233     \\\\\n",
       "\\textbf{ma.L1}  &      -0.5395  &        0.856     &    -0.631  &         0.528        &       -2.216    &        1.137     \\\\\n",
       "\\textbf{ma.L2}  &      -0.0353  &        0.038     &    -0.920  &         0.358        &       -0.111    &        0.040     \\\\\n",
       "\\textbf{sigma2} &       0.9319  &        0.050     &    18.559  &         0.000        &        0.834    &        1.030     \\\\\n",
       "\\bottomrule\n",
       "\\end{tabular}\n",
       "\\begin{tabular}{lclc}\n",
       "\\textbf{Ljung-Box (L1) (Q):}     & 0.08 & \\textbf{  Jarque-Bera (JB):  } &  4.30  \\\\\n",
       "\\textbf{Prob(Q):}                & 0.77 & \\textbf{  Prob(JB):          } &  0.12  \\\\\n",
       "\\textbf{Heteroskedasticity (H):} & 0.98 & \\textbf{  Skew:              } & -0.19  \\\\\n",
       "\\textbf{Prob(H) (two-sided):}    & 0.85 & \\textbf{  Kurtosis:          } &  2.93  \\\\\n",
       "\\bottomrule\n",
       "\\end{tabular}\n",
       "%\\caption{SARIMAX Results}\n",
       "\\end{center}\n",
       "\n",
       "Warnings: \\newline\n",
       " [1] Covariance matrix calculated using the outer product of gradients (complex-step)."
      ],
      "text/plain": [
       "<class 'statsmodels.iolib.summary.Summary'>\n",
       "\"\"\"\n",
       "                               SARIMAX Results                                \n",
       "==============================================================================\n",
       "Dep. Variable:             Temperatur   No. Observations:                  700\n",
       "Model:                 ARIMA(1, 1, 2)   Log Likelihood                -967.207\n",
       "Date:                Sun, 14 Apr 2024   AIC                           1942.413\n",
       "Time:                        13:25:53   BIC                           1960.612\n",
       "Sample:                    01-01-2020   HQIC                          1949.448\n",
       "                         - 11-30-2021                                         \n",
       "Covariance Type:                  opg                                         \n",
       "==============================================================================\n",
       "                 coef    std err          z      P>|z|      [0.025      0.975]\n",
       "------------------------------------------------------------------------------\n",
       "ar.L1          0.5543      0.856      0.647      0.518      -1.124       2.233\n",
       "ma.L1         -0.5395      0.856     -0.631      0.528      -2.216       1.137\n",
       "ma.L2         -0.0353      0.038     -0.920      0.358      -0.111       0.040\n",
       "sigma2         0.9319      0.050     18.559      0.000       0.834       1.030\n",
       "===================================================================================\n",
       "Ljung-Box (L1) (Q):                   0.08   Jarque-Bera (JB):                 4.30\n",
       "Prob(Q):                              0.77   Prob(JB):                         0.12\n",
       "Heteroskedasticity (H):               0.98   Skew:                            -0.19\n",
       "Prob(H) (two-sided):                  0.85   Kurtosis:                         2.93\n",
       "===================================================================================\n",
       "\n",
       "Warnings:\n",
       "[1] Covariance matrix calculated using the outer product of gradients (complex-step).\n",
       "\"\"\""
      ]
     },
     "execution_count": 9,
     "metadata": {},
     "output_type": "execute_result"
    }
   ],
   "source": [
    "model=ARIMA(train['Temperatur'],order=(1,1,2))\n",
    "model=model.fit()\n",
    "model.summary()"
   ]
  },
  {
   "cell_type": "code",
   "execution_count": 10,
   "id": "7f6c1c17-0277-4111-b395-8e44161ac5c3",
   "metadata": {},
   "outputs": [
    {
     "name": "stdout",
     "output_type": "stream",
     "text": [
      "Datum\n",
      "2021-12-01   -47.402096\n",
      "2021-12-02   -47.420092\n",
      "2021-12-03   -47.430067\n",
      "2021-12-04   -47.435597\n",
      "2021-12-05   -47.438662\n",
      "                ...    \n",
      "2022-09-22   -47.442474\n",
      "2022-09-23   -47.442474\n",
      "2022-09-24   -47.442474\n",
      "2022-09-25   -47.442474\n",
      "2022-09-26   -47.442474\n",
      "Name: predicted_mean, Length: 300, dtype: float64\n"
     ]
    }
   ],
   "source": [
    "start=len(train)\n",
    "end=len(train)+len(test)-1\n",
    "pred=model.predict(start=start,end=end,typ='levels')\n",
    "pred.index=df.index[start:end+1]\n",
    "print(pred)"
   ]
  },
  {
   "cell_type": "code",
   "execution_count": 11,
   "id": "2af9b083-d0ff-4add-845d-10b99aba43cf",
   "metadata": {},
   "outputs": [
    {
     "data": {
      "text/plain": [
       "-40.47460535782311"
      ]
     },
     "execution_count": 11,
     "metadata": {},
     "output_type": "execute_result"
    }
   ],
   "source": [
    "test['Temperatur'].mean()"
   ]
  },
  {
   "cell_type": "code",
   "execution_count": 12,
   "id": "2b0c7ea8-4c07-4c1d-87c4-580a10d7b0ad",
   "metadata": {},
   "outputs": [
    {
     "name": "stdout",
     "output_type": "stream",
     "text": [
      "8.833247942893555\n"
     ]
    }
   ],
   "source": [
    "from sklearn.metrics import mean_squared_error\n",
    "from math import sqrt\n",
    "rmse = sqrt(mean_squared_error(pred,test['Temperatur']))\n",
    "print(rmse)"
   ]
  },
  {
   "cell_type": "code",
   "execution_count": 13,
   "id": "ac2335d9-e6a0-41ea-bbef-be044b284d93",
   "metadata": {},
   "outputs": [
    {
     "data": {
      "text/html": [
       "<div>\n",
       "<style scoped>\n",
       "    .dataframe tbody tr th:only-of-type {\n",
       "        vertical-align: middle;\n",
       "    }\n",
       "\n",
       "    .dataframe tbody tr th {\n",
       "        vertical-align: top;\n",
       "    }\n",
       "\n",
       "    .dataframe thead th {\n",
       "        text-align: right;\n",
       "    }\n",
       "</style>\n",
       "<table border=\"1\" class=\"dataframe\">\n",
       "  <thead>\n",
       "    <tr style=\"text-align: right;\">\n",
       "      <th></th>\n",
       "      <th>Temperatur</th>\n",
       "    </tr>\n",
       "    <tr>\n",
       "      <th>Datum</th>\n",
       "      <th></th>\n",
       "    </tr>\n",
       "  </thead>\n",
       "  <tbody>\n",
       "    <tr>\n",
       "      <th>2022-09-22</th>\n",
       "      <td>-39.780372</td>\n",
       "    </tr>\n",
       "    <tr>\n",
       "      <th>2022-09-23</th>\n",
       "      <td>-40.218338</td>\n",
       "    </tr>\n",
       "    <tr>\n",
       "      <th>2022-09-24</th>\n",
       "      <td>-40.436602</td>\n",
       "    </tr>\n",
       "    <tr>\n",
       "      <th>2022-09-25</th>\n",
       "      <td>-40.160493</td>\n",
       "    </tr>\n",
       "    <tr>\n",
       "      <th>2022-09-26</th>\n",
       "      <td>-41.259100</td>\n",
       "    </tr>\n",
       "  </tbody>\n",
       "</table>\n",
       "</div>"
      ],
      "text/plain": [
       "            Temperatur\n",
       "Datum                 \n",
       "2022-09-22  -39.780372\n",
       "2022-09-23  -40.218338\n",
       "2022-09-24  -40.436602\n",
       "2022-09-25  -40.160493\n",
       "2022-09-26  -41.259100"
      ]
     },
     "execution_count": 13,
     "metadata": {},
     "output_type": "execute_result"
    }
   ],
   "source": [
    "model2=ARIMA(df['Temperatur'],order=(1,1,2))\n",
    "model2=model2.fit()\n",
    "df.tail()"
   ]
  },
  {
   "cell_type": "code",
   "execution_count": 14,
   "id": "9cd27533-9bca-4349-ae97-f80f6068e327",
   "metadata": {},
   "outputs": [
    {
     "name": "stdout",
     "output_type": "stream",
     "text": [
      "2020-01-03   -41.249433\n",
      "2020-01-04   -41.188871\n",
      "2020-01-05   -41.163705\n",
      "2020-01-06   -41.153247\n",
      "2020-01-07   -41.148901\n",
      "2020-01-08   -41.147095\n",
      "2020-01-09   -41.146345\n",
      "2020-01-10   -41.146033\n",
      "2020-01-11   -41.145904\n",
      "2020-01-12   -41.145850\n",
      "2020-01-13   -41.145827\n",
      "2020-01-14   -41.145818\n",
      "2020-01-15   -41.145814\n",
      "2020-01-16   -41.145813\n",
      "2020-01-17   -41.145812\n",
      "2020-01-18   -41.145812\n",
      "2020-01-19   -41.145812\n",
      "2020-01-20   -41.145812\n",
      "2020-01-21   -41.145811\n",
      "2020-01-22   -41.145811\n",
      "2020-01-23   -41.145811\n",
      "2020-01-24   -41.145811\n",
      "2020-01-25   -41.145811\n",
      "2020-01-26   -41.145811\n",
      "2020-01-27   -41.145811\n",
      "2020-01-28   -41.145811\n",
      "2020-01-29   -41.145811\n",
      "2020-01-30   -41.145811\n",
      "2020-01-31   -41.145811\n",
      "Freq: D, Name: ARIMA Predictions, dtype: float64\n"
     ]
    }
   ],
   "source": [
    "index_future_dates=pd.date_range(start='1/3/2020',end='1/31/2020')\n",
    "pred=model2.predict(start=len(df),end=len(df)+28,typ='levels').rename('ARIMA Predictions')\n",
    "pred.index = index_future_dates\n",
    "print(pred)"
   ]
  },
  {
   "cell_type": "code",
   "execution_count": 15,
   "id": "16594324-752e-47a4-8615-e3f6a71e760a",
   "metadata": {},
   "outputs": [
    {
     "data": {
      "text/plain": [
       "<Axes: xlabel='Date', ylabel='Temperatur'>"
      ]
     },
     "execution_count": 15,
     "metadata": {},
     "output_type": "execute_result"
    },
    {
     "data": {
      "image/png": "[encoded data removed]",
      "text/plain": [
       "<Figure size 640x480 with 1 Axes>"
      ]
     },
     "metadata": {},
     "output_type": "display_data"
    }
   ],
   "source": [
    "pred.plot(legend=True,xlabel='Date',ylabel='Temperatur')"
   ]
  },
  {
   "cell_type": "code",
   "execution_count": null,
   "id": "475e62e9-d2f3-4ab9-9e37-f0c55e13e100",
   "metadata": {},
   "outputs": [],
   "source": []
  }
 ],
 "metadata": {
  "kernelspec": {
   "display_name": "Python 3 (ipykernel)",
   "language": "python",
   "name": "python3"
  },
  "language_info": {
   "codemirror_mode": {
    "name": "ipython",
    "version": 3
   },
   "file_extension": ".py",
   "mimetype": "text/x-python",
   "name": "python",
   "nbconvert_exporter": "python",
   "pygments_lexer": "ipython3",
   "version": "3.12.3"
  }
 },
 "nbformat": 4,
 "nbformat_minor": 5
}
